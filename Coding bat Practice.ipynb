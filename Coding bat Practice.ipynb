{
 "cells": [
  {
   "cell_type": "markdown",
   "id": "af418b6e",
   "metadata": {},
   "source": [
    "# Repeat first 3 characters\n"
   ]
  },
  {
   "cell_type": "code",
   "execution_count": 1,
   "id": "bd9ccf35",
   "metadata": {},
   "outputs": [
    {
     "name": "stdout",
     "output_type": "stream",
     "text": [
      "chochocho\n"
     ]
    }
   ],
   "source": [
    "def front3(str):\n",
    "  front_end=3\n",
    "  front=str[:3]\n",
    "  return front+front+front\n",
    "result=front3('cho')\n",
    "print(result)"
   ]
  },
  {
   "cell_type": "markdown",
   "id": "0e0a5e8c",
   "metadata": {},
   "source": [
    "# Reverse first and last character"
   ]
  },
  {
   "cell_type": "code",
   "execution_count": null,
   "id": "d09083fe",
   "metadata": {},
   "outputs": [],
   "source": [
    "def front_back(str):\n",
    "  if len(str) <= 1:\n",
    "    return str\n",
    "  \n",
    "  mid = str[1:len(str)-1]  # can be written as str[1:-1]\n",
    "  \n",
    "  # last + mid + first\n",
    "  return str[len(str)-1] + mid + str[0]"
   ]
  },
  {
   "cell_type": "markdown",
   "id": "2facd4b8",
   "metadata": {},
   "source": [
    "\n",
    "# String Times"
   ]
  },
  {
   "cell_type": "code",
   "execution_count": null,
   "id": "8627d113",
   "metadata": {},
   "outputs": [],
   "source": [
    "def string_times(str, n):\n",
    "  result=\"\"\n",
    "  for i in range(n):\n",
    "    result=result+str\n",
    "  return result"
   ]
  },
  {
   "cell_type": "markdown",
   "id": "c675ed80",
   "metadata": {},
   "source": [
    "# Count certain number comes in list"
   ]
  },
  {
   "cell_type": "code",
   "execution_count": 2,
   "id": "b115fd6a",
   "metadata": {},
   "outputs": [],
   "source": [
    "def array_count(nums):\n",
    "    count=0\n",
    "    for i in nums:\n",
    "        if i==9:\n",
    "            count=count+1\n",
    "    return count"
   ]
  },
  {
   "cell_type": "code",
   "execution_count": 3,
   "id": "9c91430b",
   "metadata": {},
   "outputs": [
    {
     "name": "stdout",
     "output_type": "stream",
     "text": [
      "2\n"
     ]
    }
   ],
   "source": [
    "result1=array_count([4,9,9,3])\n",
    "print(result1)"
   ]
  },
  {
   "cell_type": "markdown",
   "id": "b970217b",
   "metadata": {},
   "source": [
    "# If number present in list return True else False"
   ]
  },
  {
   "cell_type": "code",
   "execution_count": null,
   "id": "e9a147a7",
   "metadata": {},
   "outputs": [],
   "source": [
    "def array_front9(nums):\n",
    "  end=len(nums)  #first figure the end of the loop\n",
    "  if end>4:\n",
    "    end=4\n",
    "  for i in range(end): #loop over the index\n",
    "    if nums[i]==9:\n",
    "      return True\n",
    "  return False"
   ]
  },
  {
   "cell_type": "markdown",
   "id": "5ffd8c85",
   "metadata": {},
   "source": [
    "# Print fibonacci series"
   ]
  },
  {
   "cell_type": "code",
   "execution_count": 1,
   "id": "ec615d31",
   "metadata": {},
   "outputs": [],
   "source": [
    "def fibonacci():\n",
    "    a,b=0,1\n",
    "    while True:\n",
    "        yield a\n",
    "        a,b=b,a+b\n",
    "f1=fibonacci()"
   ]
  },
  {
   "cell_type": "code",
   "execution_count": 2,
   "id": "7dc48867",
   "metadata": {},
   "outputs": [
    {
     "name": "stdout",
     "output_type": "stream",
     "text": [
      "0\n"
     ]
    }
   ],
   "source": [
    "print(next(f1))"
   ]
  },
  {
   "cell_type": "code",
   "execution_count": 4,
   "id": "1710ca68",
   "metadata": {},
   "outputs": [
    {
     "name": "stdout",
     "output_type": "stream",
     "text": [
      "1\n"
     ]
    }
   ],
   "source": [
    "print(next(f1))"
   ]
  },
  {
   "cell_type": "markdown",
   "id": "284631a9",
   "metadata": {},
   "source": [
    "# Repeat each character twice"
   ]
  },
  {
   "cell_type": "code",
   "execution_count": 5,
   "id": "1c5db871",
   "metadata": {},
   "outputs": [],
   "source": [
    "def double_char(str):\n",
    "    result=\"\"\n",
    "    for char in str:\n",
    "        result+=char*2\n",
    "    return result"
   ]
  },
  {
   "cell_type": "code",
   "execution_count": 6,
   "id": "e2c2ede3",
   "metadata": {},
   "outputs": [
    {
     "name": "stdout",
     "output_type": "stream",
     "text": [
      "wwhhoo\n"
     ]
    }
   ],
   "source": [
    "result=double_char('who')\n",
    "print(result)"
   ]
  },
  {
   "cell_type": "markdown",
   "id": "0e1dcf57",
   "metadata": {},
   "source": [
    "# count the 'hi' substring occures in the given string"
   ]
  },
  {
   "cell_type": "code",
   "execution_count": 10,
   "id": "a89b2875",
   "metadata": {},
   "outputs": [],
   "source": [
    "def count_hi(str):\n",
    "    count=0\n",
    "    for i in range(len(str)):\n",
    "        if str[i:i+2]=='hi':\n",
    "            count+=1\n",
    "    return count"
   ]
  },
  {
   "cell_type": "code",
   "execution_count": 12,
   "id": "586518c4",
   "metadata": {},
   "outputs": [
    {
     "name": "stdout",
     "output_type": "stream",
     "text": [
      "3\n"
     ]
    }
   ],
   "source": [
    "result=count_hi('hi,my name is hi,hi')\n",
    "print(result)"
   ]
  },
  {
   "cell_type": "markdown",
   "id": "4cf79e4c",
   "metadata": {},
   "source": [
    "\n",
    "# return true if count of cat = count of dog"
   ]
  },
  {
   "cell_type": "code",
   "execution_count": 5,
   "id": "b92f078f",
   "metadata": {},
   "outputs": [
    {
     "name": "stdout",
     "output_type": "stream",
     "text": [
      "False\n"
     ]
    }
   ],
   "source": [
    "def cat_dog_equal_count(s):\n",
    "    cat_count = 0\n",
    "    dog_count = 0\n",
    "    for i in range(len(s)):\n",
    "        if s[i:i+3] == \"cat\":\n",
    "            cat_count += 1\n",
    "        elif s[i:i+3] == \"dog\":\n",
    "            dog_count += 1\n",
    "    return cat_count == dog_count\n",
    "\n",
    "my_string = \"catdogcatdo\"\n",
    "result = cat_dog_equal_count(my_string)\n",
    "print(result)\n"
   ]
  },
  {
   "cell_type": "code",
   "execution_count": 6,
   "id": "232de359",
   "metadata": {},
   "outputs": [],
   "source": [
    "def count_code(str):\n",
    "  count=0\n",
    "  for i in range(len(str)):\n",
    "    if str[i:i+4]=='code':\n",
    "      count+=1\n",
    "  return count"
   ]
  },
  {
   "cell_type": "code",
   "execution_count": 8,
   "id": "1d097c66",
   "metadata": {},
   "outputs": [
    {
     "name": "stdout",
     "output_type": "stream",
     "text": [
      "1\n"
     ]
    }
   ],
   "source": [
    "result=count_code('codecuuutcodcod')\n",
    "print(result)"
   ]
  },
  {
   "cell_type": "markdown",
   "id": "b0a2db2f",
   "metadata": {},
   "source": [
    "# Count number of times even number appers in the given array"
   ]
  },
  {
   "cell_type": "code",
   "execution_count": 9,
   "id": "c09495e7",
   "metadata": {},
   "outputs": [],
   "source": [
    "def count_evens(nums):\n",
    "  count=0\n",
    "  for num in nums:\n",
    "    if num%2==0:\n",
    "      count+=1\n",
    "  return count"
   ]
  },
  {
   "cell_type": "code",
   "execution_count": 11,
   "id": "069806ce",
   "metadata": {},
   "outputs": [
    {
     "name": "stdout",
     "output_type": "stream",
     "text": [
      "2\n"
     ]
    }
   ],
   "source": [
    "result=count_evens([2,3,4,1,])\n",
    "print(result)"
   ]
  },
  {
   "cell_type": "markdown",
   "id": "b4037b1e",
   "metadata": {},
   "source": [
    "# Find the difference between the max and min value in the given list"
   ]
  },
  {
   "cell_type": "code",
   "execution_count": 14,
   "id": "b55cc544",
   "metadata": {},
   "outputs": [],
   "source": [
    "def big_diff(nums):\n",
    "  big_num=max(nums)\n",
    "  small_num=min(nums)\n",
    "  return big_num-small_num\n",
    "  \n"
   ]
  },
  {
   "cell_type": "code",
   "execution_count": 15,
   "id": "b5de3d79",
   "metadata": {},
   "outputs": [
    {
     "name": "stdout",
     "output_type": "stream",
     "text": [
      "7\n"
     ]
    }
   ],
   "source": [
    "result=big_diff([2,6,8,4,7,9])\n",
    "print(result)"
   ]
  },
  {
   "cell_type": "markdown",
   "id": "96b916ca",
   "metadata": {},
   "source": [
    "# Find out the Possible subset from the given list"
   ]
  },
  {
   "cell_type": "code",
   "execution_count": 1,
   "id": "e62eee31",
   "metadata": {},
   "outputs": [
    {
     "name": "stdout",
     "output_type": "stream",
     "text": [
      "[1, 5, -3, 5, 7, 8]\n",
      "[1, 5, -3, 5, 7]\n",
      "[1, 5, -3, 5, 8]\n",
      "[1, 5, -3, 5]\n",
      "[1, 5, -3, 7, 8]\n",
      "[1, 5, -3, 7]\n",
      "[1, 5, -3, 8]\n",
      "[1, 5, -3]\n",
      "[1, 5, 5, 7, 8]\n",
      "[1, 5, 5, 7]\n",
      "[1, 5, 5, 8]\n",
      "[1, 5, 5]\n",
      "[1, 5, 7, 8]\n",
      "[1, 5, 7]\n",
      "[1, 5, 8]\n",
      "[1, 5]\n",
      "[1, -3, 5, 7, 8]\n",
      "[1, -3, 5, 7]\n",
      "[1, -3, 5, 8]\n",
      "[1, -3, 5]\n",
      "[1, -3, 7, 8]\n",
      "[1, -3, 7]\n",
      "[1, -3, 8]\n",
      "[1, -3]\n",
      "[1, 5, 7, 8]\n",
      "[1, 5, 7]\n",
      "[1, 5, 8]\n",
      "[1, 5]\n",
      "[1, 7, 8]\n",
      "[1, 7]\n",
      "[1, 8]\n",
      "[1]\n",
      "[5, -3, 5, 7, 8]\n",
      "[5, -3, 5, 7]\n",
      "[5, -3, 5, 8]\n",
      "[5, -3, 5]\n",
      "[5, -3, 7, 8]\n",
      "[5, -3, 7]\n",
      "[5, -3, 8]\n",
      "[5, -3]\n",
      "[5, 5, 7, 8]\n",
      "[5, 5, 7]\n",
      "[5, 5, 8]\n",
      "[5, 5]\n",
      "[5, 7, 8]\n",
      "[5, 7]\n",
      "[5, 8]\n",
      "[5]\n",
      "[-3, 5, 7, 8]\n",
      "[-3, 5, 7]\n",
      "[-3, 5, 8]\n",
      "[-3, 5]\n",
      "[-3, 7, 8]\n",
      "[-3, 7]\n",
      "[-3, 8]\n",
      "[-3]\n",
      "[5, 7, 8]\n",
      "[5, 7]\n",
      "[5, 8]\n",
      "[5]\n",
      "[7, 8]\n",
      "[7]\n",
      "[8]\n",
      "[]\n"
     ]
    }
   ],
   "source": [
    "def generate_subsets(lst, start=0, current=[]):\n",
    "    if start == len(lst):\n",
    "        return [current]\n",
    "\n",
    "    include_current = generate_subsets(lst, start + 1, current + [lst[start]])\n",
    "    exclude_current = generate_subsets(lst, start + 1, current)\n",
    "\n",
    "    return include_current + exclude_current\n",
    "\n",
    "my_list = [1, 5, -3, 5, 7, 8]\n",
    "subsets = generate_subsets(my_list)\n",
    "\n",
    "for subset in subsets:\n",
    "    print(subset)\n"
   ]
  },
  {
   "cell_type": "code",
   "execution_count": 11,
   "id": "61d24514",
   "metadata": {},
   "outputs": [
    {
     "name": "stdout",
     "output_type": "stream",
     "text": [
      "[4, 10, -6, 14, 16]\n"
     ]
    }
   ],
   "source": [
    "l1=[2,5,-3,7,8]\n",
    "list=[]\n",
    "for i in l1:\n",
    "    list.append(i*2)\n",
    "print(list)"
   ]
  },
  {
   "cell_type": "code",
   "execution_count": 7,
   "id": "e7a6946c",
   "metadata": {},
   "outputs": [
    {
     "data": {
      "text/plain": [
       "[2, 5, -3, 7, 8]"
      ]
     },
     "execution_count": 7,
     "metadata": {},
     "output_type": "execute_result"
    }
   ],
   "source": [
    "l1"
   ]
  },
  {
   "cell_type": "code",
   "execution_count": 8,
   "id": "e2ad8d56",
   "metadata": {},
   "outputs": [],
   "source": [
    "list=[i for i in l1 if i%2==0]"
   ]
  },
  {
   "cell_type": "code",
   "execution_count": 9,
   "id": "050c10de",
   "metadata": {},
   "outputs": [
    {
     "name": "stdout",
     "output_type": "stream",
     "text": [
      "[2, 8]\n"
     ]
    }
   ],
   "source": [
    "print(list)"
   ]
  },
  {
   "cell_type": "code",
   "execution_count": 18,
   "id": "6e3f0781",
   "metadata": {},
   "outputs": [
    {
     "name": "stdout",
     "output_type": "stream",
     "text": [
      "None\n"
     ]
    }
   ],
   "source": [
    "def fibonacci(input,start=0):\n",
    "    for i in range():\n",
    "        if input[i:i+1]==sum(i and i+1):\n",
    "            return input\n",
    "result=fibonacci(6)\n",
    "print(result)"
   ]
  },
  {
   "cell_type": "code",
   "execution_count": 1,
   "id": "48f0ae77",
   "metadata": {},
   "outputs": [
    {
     "name": "stdout",
     "output_type": "stream",
     "text": [
      "0\n",
      "1\n",
      "1\n",
      "2\n",
      "3\n",
      "5\n",
      "8\n",
      "13\n",
      "21\n",
      "34\n"
     ]
    }
   ],
   "source": [
    "def fibonacci(n):\n",
    "    if n<=1:\n",
    "        return n\n",
    "    else:\n",
    "        return fibonacci(n-1)+fibonacci(n-2)\n",
    "\n",
    "for i in range(10):\n",
    "    print (fibonacci(i))\n"
   ]
  },
  {
   "cell_type": "code",
   "execution_count": 4,
   "id": "2dbb8193",
   "metadata": {},
   "outputs": [
    {
     "name": "stdout",
     "output_type": "stream",
     "text": [
      "True\n"
     ]
    }
   ],
   "source": [
    "def palindrome(word):\n",
    "    word=word.lower()\n",
    "    return word==word[::-1]\n",
    "result=palindrome('Mom')\n",
    "print(result)"
   ]
  },
  {
   "cell_type": "code",
   "execution_count": 1,
   "id": "47e89cc9",
   "metadata": {},
   "outputs": [],
   "source": [
    "import pandas as pd"
   ]
  },
  {
   "cell_type": "code",
   "execution_count": 2,
   "id": "a63b7e96",
   "metadata": {},
   "outputs": [],
   "source": [
    "df=pd.read_excel(r'C:/Users/hp/Desktop/datasets/Email_folder.xlsx')"
   ]
  },
  {
   "cell_type": "code",
   "execution_count": 9,
   "id": "ccfcefa9",
   "metadata": {},
   "outputs": [],
   "source": [
    "df['flag']=df['Email '].str.endswith('yahoo.com')"
   ]
  },
  {
   "cell_type": "code",
   "execution_count": 13,
   "id": "e5ad634a",
   "metadata": {},
   "outputs": [],
   "source": [
    "df.to_excel('abc.xlsx',r)"
   ]
  },
  {
   "cell_type": "code",
   "execution_count": 15,
   "id": "edf58faa",
   "metadata": {},
   "outputs": [
    {
     "data": {
      "text/plain": [
       "'C:\\\\Users\\\\hp\\\\Desktop'"
      ]
     },
     "execution_count": 15,
     "metadata": {},
     "output_type": "execute_result"
    }
   ],
   "source": [
    "import os\n",
    "os.getcwd()"
   ]
  },
  {
   "cell_type": "code",
   "execution_count": 8,
   "id": "83c7126e",
   "metadata": {},
   "outputs": [
    {
     "ename": "SyntaxError",
     "evalue": "invalid syntax (3607238503.py, line 1)",
     "output_type": "error",
     "traceback": [
      "\u001b[1;36m  Cell \u001b[1;32mIn[8], line 1\u001b[1;36m\u001b[0m\n\u001b[1;33m    df.iloc['True' for x in df['Email '] if x.endswith('yahoo.com') else 'False','flag']\u001b[0m\n\u001b[1;37m                   ^\u001b[0m\n\u001b[1;31mSyntaxError\u001b[0m\u001b[1;31m:\u001b[0m invalid syntax\n"
     ]
    }
   ],
   "source": []
  },
  {
   "cell_type": "code",
   "execution_count": 25,
   "id": "2b2c8b73",
   "metadata": {},
   "outputs": [
    {
     "ename": "NameError",
     "evalue": "name 'Akshay' is not defined",
     "output_type": "error",
     "traceback": [
      "\u001b[1;31m---------------------------------------------------------------------------\u001b[0m",
      "\u001b[1;31mNameError\u001b[0m                                 Traceback (most recent call last)",
      "Cell \u001b[1;32mIn[25], line 4\u001b[0m\n\u001b[0;32m      2\u001b[0m     \u001b[38;5;28;01mif\u001b[39;00m \u001b[38;5;28minput\u001b[39m\u001b[38;5;241m==\u001b[39mAkshay\u001b[38;5;129m@gmail\u001b[39m\u001b[38;5;241m.\u001b[39mcom:\n\u001b[0;32m      3\u001b[0m         \u001b[38;5;28minput\u001b[39m\u001b[38;5;241m.\u001b[39msplit(\u001b[38;5;124m'\u001b[39m\u001b[38;5;124m@\u001b[39m\u001b[38;5;124m'\u001b[39m)\n\u001b[1;32m----> 4\u001b[0m result\u001b[38;5;241m=\u001b[39m\u001b[43mmail_list\u001b[49m\u001b[43m(\u001b[49m\u001b[38;5;28;43minput\u001b[39;49m\u001b[43m)\u001b[49m\n\u001b[0;32m      5\u001b[0m \u001b[38;5;28mprint\u001b[39m(result)\n",
      "Cell \u001b[1;32mIn[25], line 2\u001b[0m, in \u001b[0;36mmail_list\u001b[1;34m(input)\u001b[0m\n\u001b[0;32m      1\u001b[0m \u001b[38;5;28;01mdef\u001b[39;00m \u001b[38;5;21mmail_list\u001b[39m(\u001b[38;5;28minput\u001b[39m):\n\u001b[1;32m----> 2\u001b[0m     \u001b[38;5;28;01mif\u001b[39;00m \u001b[38;5;28minput\u001b[39m\u001b[38;5;241m==\u001b[39m\u001b[43mAkshay\u001b[49m\u001b[38;5;129m@gmail\u001b[39m\u001b[38;5;241m.\u001b[39mcom:\n\u001b[0;32m      3\u001b[0m         \u001b[38;5;28minput\u001b[39m\u001b[38;5;241m.\u001b[39msplit(\u001b[38;5;124m'\u001b[39m\u001b[38;5;124m@\u001b[39m\u001b[38;5;124m'\u001b[39m)\n",
      "\u001b[1;31mNameError\u001b[0m: name 'Akshay' is not defined"
     ]
    }
   ],
   "source": [
    "def mail_list(string):\n",
    "    if string.endswith('yahoo.com'):\n",
    "        return False\n",
    "    else:\n",
    "        True\n",
    "        \n",
    "list1=map(x for x in string if x:x.endswith('yahoo.com') False else True)\n"
   ]
  },
  {
   "cell_type": "code",
   "execution_count": null,
   "id": "58b54887",
   "metadata": {},
   "outputs": [],
   "source": []
  },
  {
   "cell_type": "code",
   "execution_count": null,
   "id": "c07e7f6d",
   "metadata": {},
   "outputs": [],
   "source": []
  },
  {
   "cell_type": "code",
   "execution_count": null,
   "id": "995409e5",
   "metadata": {},
   "outputs": [],
   "source": []
  },
  {
   "cell_type": "code",
   "execution_count": null,
   "id": "dd7390ca",
   "metadata": {},
   "outputs": [],
   "source": []
  }
 ],
 "metadata": {
  "kernelspec": {
   "display_name": "Python 3 (ipykernel)",
   "language": "python",
   "name": "python3"
  },
  "language_info": {
   "codemirror_mode": {
    "name": "ipython",
    "version": 3
   },
   "file_extension": ".py",
   "mimetype": "text/x-python",
   "name": "python",
   "nbconvert_exporter": "python",
   "pygments_lexer": "ipython3",
   "version": "3.10.9"
  }
 },
 "nbformat": 4,
 "nbformat_minor": 5
}
